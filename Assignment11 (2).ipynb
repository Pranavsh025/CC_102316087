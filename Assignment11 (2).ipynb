{
  "cells": [
    {
      "cell_type": "markdown",
      "metadata": {
        "id": "-YP-mfApDHS0"
      },
      "source": [
        "## Pranav Sharma\n",
        "## 102316087\n",
        "---"
      ]
    },
    {
      "cell_type": "markdown",
      "metadata": {
        "id": "yJUsh7g52i-R"
      },
      "source": [
        "# Ques 1. Design a Cognitive Assistant for Reading Labels of medicine bottle"
      ]
    },
    {
      "cell_type": "markdown",
      "metadata": {},
      "source": [
        "![m](<Screenshot 2025-05-04 221312.png>)"
      ]
    },
    {
      "cell_type": "markdown",
      "metadata": {},
      "source": [
        "![m](<Screenshot 2025-05-04 222849.png>)"
      ]
    },
    {
      "cell_type": "markdown",
      "metadata": {
        "id": "QjI_WCOi-VHE"
      },
      "source": [
        "# Ques 2.Design an Emotion-aware Cognitive Assistant using Facial Expression Detection"
      ]
    },
    {
      "cell_type": "markdown",
      "metadata": {},
      "source": [
        "![m](<Screenshot 2025-05-04 223056.png>)"
      ]
    },
    {
      "cell_type": "markdown",
      "metadata": {},
      "source": [
        "![m](<Screenshot 2025-05-04 223108.png>)"
      ]
    }
  ],
  "metadata": {
    "colab": {
      "provenance": []
    },
    "kernelspec": {
      "display_name": "Python 3",
      "name": "python3"
    },
    "language_info": {
      "name": "python"
    }
  },
  "nbformat": 4,
  "nbformat_minor": 0
}
