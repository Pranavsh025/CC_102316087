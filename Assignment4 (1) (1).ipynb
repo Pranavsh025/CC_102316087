{
  "cells": [
    {
      "cell_type": "code",
      "execution_count": 2,
      "metadata": {
        "colab": {
          "base_uri": "https://localhost:8080/"
        },
        "id": "dLSY9RVXlHV_",
        "outputId": "a63abe02-0f47-4f4a-ec91-be8b87246e96"
      },
      "outputs": [
        {
          "ename": "ModuleNotFoundError",
          "evalue": "No module named 'numpy'",
          "output_type": "error",
          "traceback": [
            "\u001b[1;31m---------------------------------------------------------------------------\u001b[0m",
            "\u001b[1;31mModuleNotFoundError\u001b[0m                       Traceback (most recent call last)",
            "Cell \u001b[1;32mIn[2], line 2\u001b[0m\n\u001b[0;32m      1\u001b[0m \u001b[38;5;66;03m#Q1:\u001b[39;00m\n\u001b[1;32m----> 2\u001b[0m \u001b[38;5;28;01mimport\u001b[39;00m\u001b[38;5;250m \u001b[39m\u001b[38;5;21;01mnumpy\u001b[39;00m\u001b[38;5;250m \u001b[39m\u001b[38;5;28;01mas\u001b[39;00m\u001b[38;5;250m \u001b[39m\u001b[38;5;21;01mnp\u001b[39;00m\n\u001b[0;32m      3\u001b[0m arr \u001b[38;5;241m=\u001b[39m np\u001b[38;5;241m.\u001b[39marray([\u001b[38;5;241m1\u001b[39m, \u001b[38;5;241m2\u001b[39m, \u001b[38;5;241m3\u001b[39m, \u001b[38;5;241m4\u001b[39m, \u001b[38;5;241m5\u001b[39m])\n\u001b[0;32m      4\u001b[0m add_result \u001b[38;5;241m=\u001b[39m arr \u001b[38;5;241m+\u001b[39m \u001b[38;5;241m2\u001b[39m\n",
            "\u001b[1;31mModuleNotFoundError\u001b[0m: No module named 'numpy'"
          ]
        }
      ],
      "source": [
        "#Q1:\n",
        "import numpy as np\n",
        "arr = np.array([1, 2, 3, 4, 5])\n",
        "add_result = arr + 2\n",
        "mul_result = arr * 3\n",
        "div_result = arr / 2\n",
        "print(\"Addition:\", add_result)\n",
        "print(\"Multiplication:\", mul_result)\n",
        "print(\"Division:\", div_result)\n",
        "\n"
      ]
    },
    {
      "cell_type": "code",
      "execution_count": null,
      "metadata": {
        "colab": {
          "base_uri": "https://localhost:8080/"
        },
        "id": "luPac-FvlXxW",
        "outputId": "686ea30f-ba2d-48ba-844e-2e134af5bb21"
      },
      "outputs": [
        {
          "name": "stdout",
          "output_type": "stream",
          "text": [
            "Reversed Array: [5 4 6 3 2 1]\n",
            "Most frequent in array1: 1 at positions [0 5 7 8]\n",
            "Most frequent in array2: 1 at positions [0 1 2]\n"
          ]
        }
      ],
      "source": [
        "#Q2:\n",
        "import numpy as np\n",
        "numbers = np.array([1, 2, 3, 6, 4, 5])\n",
        "reversed_numbers = numbers[::-1]\n",
        "print(\"Reversed Array:\", reversed_numbers)\n",
        "array1 = np.array([1, 2, 3, 4, 5, 1, 2, 1, 1])\n",
        "array2 = np.array([1, 1, 1, 2, 3, 4, 2, 4, 3, 3])\n",
        "most_common1 = np.bincount(array1).argmax()\n",
        "most_common2 = np.bincount(array2).argmax()\n",
        "indices1 = np.where(array1 == most_common1)[0]\n",
        "indices2 = np.where(array2 == most_common2)[0]\n",
        "print(\"Most frequent in array1:\", most_common1, \"at positions\", indices1)\n",
        "print(\"Most frequent in array2:\", most_common2, \"at positions\", indices2)\n"
      ]
    },
    {
      "cell_type": "code",
      "execution_count": null,
      "metadata": {
        "colab": {
          "base_uri": "https://localhost:8080/"
        },
        "id": "KZt7J5wtlkaP",
        "outputId": "ff9fbce3-4fec-4fd1-d0dc-54055768507a"
      },
      "outputs": [
        {
          "name": "stdout",
          "output_type": "stream",
          "text": [
            "Element at 1st row, 2nd column: 20\n",
            "Element at 3rd row, 1st column: 70\n"
          ]
        }
      ],
      "source": [
        "#Q3:\n",
        "arr = np.array([[10, 20, 30], [40, 50, 60], [70, 80, 90]])\n",
        "print(\"Element at 1st row, 2nd column:\", arr[0, 1])\n",
        "print(\"Element at 3rd row, 1st column:\", arr[2, 0])\n"
      ]
    },
    {
      "cell_type": "code",
      "execution_count": null,
      "metadata": {
        "colab": {
          "base_uri": "https://localhost:8080/"
        },
        "id": "UJ5TGbuJlqCD",
        "outputId": "5f9493ce-bbaa-4a4a-9b2a-cce4f212d57f"
      },
      "outputs": [],
      "source": [
        "#Q4:\n",
        "import numpy as np\n",
        "\n",
        "name = \"PranavSharma\"\n",
        "arr = np.linspace(10, 100, 25)\n",
        "print(f\"Array: {arr}\")\n",
        "print(\"Dimensions:\", arr.ndim)\n",
        "print(\"Shape:\", arr.shape)\n",
        "print(\"Data Type:\", arr.dtype)\n",
        "print(\"Total Bytes:\", arr.nbytes)\n",
        "\n",
        "reshaped_arr = arr.reshape(5, 5)\n",
        "transposed_arr = reshaped_arr.T\n",
        "\n",
        "print(\"Transposed Array:\\n\", transposed_arr)\n",
        "\n"
      ]
    },
    {
      "cell_type": "code",
      "execution_count": null,
      "metadata": {
        "colab": {
          "base_uri": "https://localhost:8080/"
        },
        "id": "Tj8l138OmVRN",
        "outputId": "67f1058f-fd66-4a2b-c1ec-d5050ab1bcbb"
      },
      "outputs": [
        {
          "name": "stdout",
          "output_type": "stream",
          "text": [
            "Mean: 43.333333333333336\n",
            "Median: 37.5\n",
            "Max: 90\n",
            "Min: 10\n",
            "Unique Elements: [10 15 20 30 35 40 50 60 70 80 90]\n",
            "Reshaped (4x3):\n",
            " [[10 20 30]\n",
            " [40 50 60]\n",
            " [70 80 90]\n",
            " [15 20 35]]\n",
            "Resized (2x6):\n",
            " [[10 20 30 40 50 60]\n",
            " [70 80 90 15 20 35]]\n"
          ]
        }
      ],
      "source": [
        "#Q5:\n",
        "name = \"PranavSharma\"\n",
        "\n",
        "ucs420_arr = np.array([\n",
        "    [10, 20, 30, 40],\n",
        "    [50, 60, 70, 80],\n",
        "    [90, 15, 20, 35]\n",
        "])\n",
        "\n",
        "print(\"Mean:\", np.mean(ucs420_arr))\n",
        "print(\"Median:\", np.median(ucs420_arr))\n",
        "print(\"Max:\", np.max(ucs420_arr))\n",
        "print(\"Min:\", np.min(ucs420_arr))\n",
        "print(\"Unique Elements:\", np.unique(ucs420_arr))\n",
        "\n",
        "reshaped_arr = ucs420_arr.reshape(4, 3)\n",
        "print(\"Reshaped (4x3):\\n\", reshaped_arr)\n",
        "\n",
        "resized_arr = ucs420_arr.reshape(2, 6)\n",
        "print(\"Resized (2x6):\\n\", resized_arr)\n"
      ]
    }
  ],
  "metadata": {
    "colab": {
      "provenance": []
    },
    "kernelspec": {
      "display_name": "Python 3",
      "name": "python3"
    },
    "language_info": {
      "codemirror_mode": {
        "name": "ipython",
        "version": 3
      },
      "file_extension": ".py",
      "mimetype": "text/x-python",
      "name": "python",
      "nbconvert_exporter": "python",
      "pygments_lexer": "ipython3",
      "version": "3.13.1"
    }
  },
  "nbformat": 4,
  "nbformat_minor": 0
}
